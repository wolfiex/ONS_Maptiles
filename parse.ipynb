{
 "cells": [
  {
   "cell_type": "code",
   "execution_count": 1,
   "metadata": {},
   "outputs": [],
   "source": [
    "import geopandas as gpd\n",
    "import os "
   ]
  },
  {
   "cell_type": "code",
   "execution_count": 2,
   "metadata": {},
   "outputs": [],
   "source": [
    "fn = ['Lower_Layer_Super_Output_Areas__December_2001__EW_BFE.geojson','LSOA']"
   ]
  },
  {
   "cell_type": "code",
   "execution_count": 8,
   "metadata": {},
   "outputs": [
    {
     "name": "stderr",
     "output_type": "stream",
     "text": [
      "/Users/danielellis/opt/miniconda3/lib/python3.9/site-packages/geopandas/_vectorized.py:142: ShapelyDeprecationWarning: __len__ for multi-part geometries is deprecated and will be removed in Shapely 2.0. Check the length of the `geoms` property instead to get the  number of parts of a multi-part geometry.\n",
      "  aout[:] = out\n"
     ]
    },
    {
     "data": {
      "text/html": [
       "<div>\n",
       "<style scoped>\n",
       "    .dataframe tbody tr th:only-of-type {\n",
       "        vertical-align: middle;\n",
       "    }\n",
       "\n",
       "    .dataframe tbody tr th {\n",
       "        vertical-align: top;\n",
       "    }\n",
       "\n",
       "    .dataframe thead th {\n",
       "        text-align: right;\n",
       "    }\n",
       "</style>\n",
       "<table border=\"1\" class=\"dataframe\">\n",
       "  <thead>\n",
       "    <tr style=\"text-align: right;\">\n",
       "      <th></th>\n",
       "      <th>LSOA</th>\n",
       "      <th>geometry</th>\n",
       "    </tr>\n",
       "  </thead>\n",
       "  <tbody>\n",
       "    <tr>\n",
       "      <th>0</th>\n",
       "      <td>City of London 001A</td>\n",
       "      <td>POLYGON ((-0.09727 51.52158, -0.09735 51.52159...</td>\n",
       "    </tr>\n",
       "    <tr>\n",
       "      <th>1</th>\n",
       "      <td>City of London 001B</td>\n",
       "      <td>POLYGON ((-0.09249 51.52143, -0.09249 51.52143...</td>\n",
       "    </tr>\n",
       "    <tr>\n",
       "      <th>2</th>\n",
       "      <td>City of London 001C</td>\n",
       "      <td>POLYGON ((-0.09453 51.52205, -0.09461 51.52221...</td>\n",
       "    </tr>\n",
       "    <tr>\n",
       "      <th>3</th>\n",
       "      <td>City of London 001D</td>\n",
       "      <td>POLYGON ((-0.07845 51.52151, -0.07852 51.52152...</td>\n",
       "    </tr>\n",
       "    <tr>\n",
       "      <th>4</th>\n",
       "      <td>City of London 001E</td>\n",
       "      <td>POLYGON ((-0.07734 51.51740, -0.07736 51.51740...</td>\n",
       "    </tr>\n",
       "  </tbody>\n",
       "</table>\n",
       "</div>"
      ],
      "text/plain": [
       "                  LSOA                                           geometry\n",
       "0  City of London 001A  POLYGON ((-0.09727 51.52158, -0.09735 51.52159...\n",
       "1  City of London 001B  POLYGON ((-0.09249 51.52143, -0.09249 51.52143...\n",
       "2  City of London 001C  POLYGON ((-0.09453 51.52205, -0.09461 51.52221...\n",
       "3  City of London 001D  POLYGON ((-0.07845 51.52151, -0.07852 51.52152...\n",
       "4  City of London 001E  POLYGON ((-0.07734 51.51740, -0.07736 51.51740..."
      ]
     },
     "execution_count": 8,
     "metadata": {},
     "output_type": "execute_result"
    }
   ],
   "source": [
    "gdf = gpd.read_file(fn[0])\n",
    "gdf = gdf[['LSOA01NM','geometry']]\n",
    "gdf.columns = ['LSOA','geometry']\n",
    "gdf.to_file(f'{fn[1]}.geojson', driver='GeoJSON')\n",
    "gdf.head()"
   ]
  },
  {
   "cell_type": "code",
   "execution_count": 19,
   "metadata": {},
   "outputs": [
    {
     "name": "stdout",
     "output_type": "stream",
     "text": [
      "done\n"
     ]
    },
    {
     "name": "stderr",
     "output_type": "stream",
     "text": [
      "For layer 0, using name \"LSOA\"\n",
      "34378 features, 114585025 bytes of geometry, 171390 bytes of separate metadata, 598859 bytes of string pool\n",
      "Choosing a maxzoom of -z6 for features about 4955 feet (1511 meters) apart\n",
      "Choosing a maxzoom of -z12 for resolution of about 67 feet (20 meters) within features\n",
      "tile 5/15/10 size is 918718 with detail 12, >500000    \n",
      "Going to try keeping the biggest 48.98% of the features to make it fit\n",
      "tile 5/15/10 size is 643210 with detail 12, >500000    \n",
      "Going to try keeping the biggest 34.27% of the features to make it fit\n",
      "tile 5/15/10 size is 536193 with detail 12, >500000    \n",
      "Going to try keeping the biggest 28.76% of the features to make it fit\n",
      "tile 6/31/20 size is 766871 with detail 12, >500000    \n",
      "Going to try keeping the biggest 58.68% of the features to make it fit\n",
      "tile 6/31/21 size is 807684 with detail 12, >500000    \n",
      "Going to try keeping the biggest 55.71% of the features to make it fit\n",
      "tile 6/31/20 size is 590427 with detail 12, >500000    \n",
      "Going to try keeping the biggest 44.72% of the features to make it fit\n",
      "tile 6/31/21 size is 616830 with detail 12, >500000    \n",
      "Going to try keeping the biggest 40.65% of the features to make it fit\n",
      "tile 6/31/20 size is 519481 with detail 12, >500000    \n",
      "Going to try keeping the biggest 38.74% of the features to make it fit\n",
      "tile 6/31/21 size is 533481 with detail 12, >500000    \n",
      "Going to try keeping the biggest 34.29% of the features to make it fit\n",
      "tile 7/63/41 size is 908316 with detail 12, >500000    \n",
      "Going to try keeping the biggest 49.54% of the features to make it fit\n",
      "tile 7/63/42 size is 1009327 with detail 12, >500000    \n",
      "Going to try keeping the biggest 44.58% of the features to make it fit\n",
      "tile 7/63/41 size is 639696 with detail 12, >500000    \n",
      "Going to try keeping the biggest 34.85% of the features to make it fit\n",
      "tile 7/63/42 size is 695854 with detail 12, >500000    \n",
      "Going to try keeping the biggest 28.83% of the features to make it fit\n",
      "tile 7/63/41 size is 538587 with detail 12, >500000    \n",
      "Going to try keeping the biggest 29.12% of the features to make it fit\n",
      "tile 7/63/42 size is 571573 with detail 12, >500000    \n",
      "Going to try keeping the biggest 22.70% of the features to make it fit\n",
      "tile 7/63/42 size is 513275 with detail 12, >500000    \n",
      "Going to try keeping the biggest 19.90% of the features to make it fit\n",
      "tile 8/126/82 size is 578042 with detail 12, >500000    \n",
      "Going to try keeping the biggest 77.85% of the features to make it fit\n",
      "tile 8/127/85 size is 658097 with detail 12, >500000    \n",
      "Going to try keeping the biggest 68.38% of the features to make it fit\n",
      "tile 8/126/82 size is 502641 with detail 12, >500000    \n",
      "Going to try keeping the biggest 69.70% of the features to make it fit\n",
      "tile 8/127/85 size is 542141 with detail 12, >500000    \n",
      "Going to try keeping the biggest 56.76% of the features to make it fit\n",
      "tile 9/255/170 size is 559273 with detail 12, >500000    \n",
      "Going to try keeping the biggest 80.46% of the features to make it fit\n",
      "  99.9%  12/2018/1363  \n"
     ]
    }
   ],
   "source": [
    "os.popen(f'tippecanoe -o {fn[1]}.mbtiles -zg --no-line-simplification --drop-smallest-as-needed --use-attribute-for-id={fn[1]}  {fn[1]}.geojson')\n",
    "print('done')"
   ]
  },
  {
   "cell_type": "code",
   "execution_count": 21,
   "metadata": {},
   "outputs": [
    {
     "data": {
      "text/plain": [
       "<os._wrap_close at 0x1a83b0c40>"
      ]
     },
     "execution_count": 21,
     "metadata": {},
     "output_type": "execute_result"
    },
    {
     "name": "stderr",
     "output_type": "stream",
     "text": [
      "12/2062/1368  \r"
     ]
    }
   ],
   "source": [
    "os.system(f'mkdir -p {fn[1]}')\n",
    "os.popen(f'tile-join -e {fn[1]} -pC -pk {fn[1]}.mbtiles')"
   ]
  },
  {
   "cell_type": "code",
   "execution_count": null,
   "metadata": {},
   "outputs": [],
   "source": []
  }
 ],
 "metadata": {
  "interpreter": {
   "hash": "9da6e78936f6a8ab907bad03d2fac666a6d46a2192eea18a6af8d3db83b62898"
  },
  "kernelspec": {
   "display_name": "Python 3.9.7 ('DataServer')",
   "language": "python",
   "name": "python3"
  },
  "language_info": {
   "codemirror_mode": {
    "name": "ipython",
    "version": 3
   },
   "file_extension": ".py",
   "mimetype": "text/x-python",
   "name": "python",
   "nbconvert_exporter": "python",
   "pygments_lexer": "ipython3",
   "version": "3.9.7"
  },
  "orig_nbformat": 4
 },
 "nbformat": 4,
 "nbformat_minor": 2
}
